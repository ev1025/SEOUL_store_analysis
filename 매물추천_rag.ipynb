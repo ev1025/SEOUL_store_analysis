{
 "cells": [
  {
   "cell_type": "code",
   "execution_count": 12,
   "metadata": {},
   "outputs": [
    {
     "name": "stdout",
     "output_type": "stream",
     "text": [
      "Requirement already satisfied: langchain-community in c:\\users\\user\\anaconda3\\envs\\study\\lib\\site-packages (0.3.20)\n",
      "Collecting langchain-community\n",
      "  Downloading langchain_community-0.3.21-py3-none-any.whl.metadata (2.4 kB)\n",
      "Collecting langchain-core<1.0.0,>=0.3.51 (from langchain-community)\n",
      "  Downloading langchain_core-0.3.51-py3-none-any.whl.metadata (5.9 kB)\n",
      "Collecting langchain<1.0.0,>=0.3.23 (from langchain-community)\n",
      "  Downloading langchain-0.3.23-py3-none-any.whl.metadata (7.8 kB)\n",
      "Requirement already satisfied: SQLAlchemy<3,>=1.4 in c:\\users\\user\\anaconda3\\envs\\study\\lib\\site-packages (from langchain-community) (2.0.34)\n",
      "Requirement already satisfied: requests<3,>=2 in c:\\users\\user\\anaconda3\\envs\\study\\lib\\site-packages (from langchain-community) (2.32.3)\n",
      "Requirement already satisfied: PyYAML>=5.3 in c:\\users\\user\\anaconda3\\envs\\study\\lib\\site-packages (from langchain-community) (6.0.1)\n",
      "Requirement already satisfied: aiohttp<4.0.0,>=3.8.3 in c:\\users\\user\\anaconda3\\envs\\study\\lib\\site-packages (from langchain-community) (3.10.5)\n",
      "Requirement already satisfied: tenacity!=8.4.0,<10,>=8.1.0 in c:\\users\\user\\anaconda3\\envs\\study\\lib\\site-packages (from langchain-community) (8.2.3)\n",
      "Requirement already satisfied: dataclasses-json<0.7,>=0.5.7 in c:\\users\\user\\anaconda3\\envs\\study\\lib\\site-packages (from langchain-community) (0.6.7)\n",
      "Requirement already satisfied: pydantic-settings<3.0.0,>=2.4.0 in c:\\users\\user\\anaconda3\\envs\\study\\lib\\site-packages (from langchain-community) (2.7.1)\n",
      "Requirement already satisfied: langsmith<0.4,>=0.1.125 in c:\\users\\user\\anaconda3\\envs\\study\\lib\\site-packages (from langchain-community) (0.3.4)\n",
      "Requirement already satisfied: httpx-sse<1.0.0,>=0.4.0 in c:\\users\\user\\anaconda3\\envs\\study\\lib\\site-packages (from langchain-community) (0.4.0)\n",
      "Requirement already satisfied: numpy<3,>=1.26.2 in c:\\users\\user\\anaconda3\\envs\\study\\lib\\site-packages (from langchain-community) (1.26.4)\n",
      "Requirement already satisfied: aiohappyeyeballs>=2.3.0 in c:\\users\\user\\anaconda3\\envs\\study\\lib\\site-packages (from aiohttp<4.0.0,>=3.8.3->langchain-community) (2.4.0)\n",
      "Requirement already satisfied: aiosignal>=1.1.2 in c:\\users\\user\\anaconda3\\envs\\study\\lib\\site-packages (from aiohttp<4.0.0,>=3.8.3->langchain-community) (1.2.0)\n",
      "Requirement already satisfied: attrs>=17.3.0 in c:\\users\\user\\anaconda3\\envs\\study\\lib\\site-packages (from aiohttp<4.0.0,>=3.8.3->langchain-community) (24.3.0)\n",
      "Requirement already satisfied: frozenlist>=1.1.1 in c:\\users\\user\\anaconda3\\envs\\study\\lib\\site-packages (from aiohttp<4.0.0,>=3.8.3->langchain-community) (1.4.0)\n",
      "Requirement already satisfied: multidict<7.0,>=4.5 in c:\\users\\user\\anaconda3\\envs\\study\\lib\\site-packages (from aiohttp<4.0.0,>=3.8.3->langchain-community) (6.0.4)\n",
      "Requirement already satisfied: yarl<2.0,>=1.0 in c:\\users\\user\\anaconda3\\envs\\study\\lib\\site-packages (from aiohttp<4.0.0,>=3.8.3->langchain-community) (1.11.0)\n",
      "Requirement already satisfied: marshmallow<4.0.0,>=3.18.0 in c:\\users\\user\\anaconda3\\envs\\study\\lib\\site-packages (from dataclasses-json<0.7,>=0.5.7->langchain-community) (3.26.0)\n",
      "Requirement already satisfied: typing-inspect<1,>=0.4.0 in c:\\users\\user\\anaconda3\\envs\\study\\lib\\site-packages (from dataclasses-json<0.7,>=0.5.7->langchain-community) (0.9.0)\n",
      "Collecting langchain-text-splitters<1.0.0,>=0.3.8 (from langchain<1.0.0,>=0.3.23->langchain-community)\n",
      "  Downloading langchain_text_splitters-0.3.8-py3-none-any.whl.metadata (1.9 kB)\n",
      "Requirement already satisfied: pydantic<3.0.0,>=2.7.4 in c:\\users\\user\\anaconda3\\envs\\study\\lib\\site-packages (from langchain<1.0.0,>=0.3.23->langchain-community) (2.8.2)\n",
      "Requirement already satisfied: jsonpatch<2.0,>=1.33 in c:\\users\\user\\anaconda3\\envs\\study\\lib\\site-packages (from langchain-core<1.0.0,>=0.3.51->langchain-community) (1.33)\n",
      "Requirement already satisfied: packaging<25,>=23.2 in c:\\users\\user\\anaconda3\\envs\\study\\lib\\site-packages (from langchain-core<1.0.0,>=0.3.51->langchain-community) (24.1)\n",
      "Requirement already satisfied: typing-extensions>=4.7 in c:\\users\\user\\anaconda3\\envs\\study\\lib\\site-packages (from langchain-core<1.0.0,>=0.3.51->langchain-community) (4.11.0)\n",
      "Requirement already satisfied: httpx<1,>=0.23.0 in c:\\users\\user\\anaconda3\\envs\\study\\lib\\site-packages (from langsmith<0.4,>=0.1.125->langchain-community) (0.27.0)\n",
      "Requirement already satisfied: orjson<4.0.0,>=3.9.14 in c:\\users\\user\\anaconda3\\envs\\study\\lib\\site-packages (from langsmith<0.4,>=0.1.125->langchain-community) (3.10.15)\n",
      "Requirement already satisfied: requests-toolbelt<2.0.0,>=1.0.0 in c:\\users\\user\\anaconda3\\envs\\study\\lib\\site-packages (from langsmith<0.4,>=0.1.125->langchain-community) (1.0.0)\n",
      "Requirement already satisfied: zstandard<0.24.0,>=0.23.0 in c:\\users\\user\\anaconda3\\envs\\study\\lib\\site-packages (from langsmith<0.4,>=0.1.125->langchain-community) (0.23.0)\n",
      "Requirement already satisfied: python-dotenv>=0.21.0 in c:\\users\\user\\anaconda3\\envs\\study\\lib\\site-packages (from pydantic-settings<3.0.0,>=2.4.0->langchain-community) (0.21.0)\n",
      "Requirement already satisfied: charset-normalizer<4,>=2 in c:\\users\\user\\anaconda3\\envs\\study\\lib\\site-packages (from requests<3,>=2->langchain-community) (3.3.2)\n",
      "Requirement already satisfied: idna<4,>=2.5 in c:\\users\\user\\anaconda3\\envs\\study\\lib\\site-packages (from requests<3,>=2->langchain-community) (3.7)\n",
      "Requirement already satisfied: urllib3<3,>=1.21.1 in c:\\users\\user\\anaconda3\\envs\\study\\lib\\site-packages (from requests<3,>=2->langchain-community) (2.2.3)\n",
      "Requirement already satisfied: certifi>=2017.4.17 in c:\\users\\user\\anaconda3\\envs\\study\\lib\\site-packages (from requests<3,>=2->langchain-community) (2025.1.31)\n",
      "Requirement already satisfied: greenlet!=0.4.17 in c:\\users\\user\\anaconda3\\envs\\study\\lib\\site-packages (from SQLAlchemy<3,>=1.4->langchain-community) (3.0.1)\n",
      "Requirement already satisfied: anyio in c:\\users\\user\\anaconda3\\envs\\study\\lib\\site-packages (from httpx<1,>=0.23.0->langsmith<0.4,>=0.1.125->langchain-community) (4.2.0)\n",
      "Requirement already satisfied: httpcore==1.* in c:\\users\\user\\anaconda3\\envs\\study\\lib\\site-packages (from httpx<1,>=0.23.0->langsmith<0.4,>=0.1.125->langchain-community) (1.0.2)\n",
      "Requirement already satisfied: sniffio in c:\\users\\user\\anaconda3\\envs\\study\\lib\\site-packages (from httpx<1,>=0.23.0->langsmith<0.4,>=0.1.125->langchain-community) (1.3.0)\n",
      "Requirement already satisfied: h11<0.15,>=0.13 in c:\\users\\user\\anaconda3\\envs\\study\\lib\\site-packages (from httpcore==1.*->httpx<1,>=0.23.0->langsmith<0.4,>=0.1.125->langchain-community) (0.14.0)\n",
      "Requirement already satisfied: jsonpointer>=1.9 in c:\\users\\user\\anaconda3\\envs\\study\\lib\\site-packages (from jsonpatch<2.0,>=1.33->langchain-core<1.0.0,>=0.3.51->langchain-community) (2.1)\n",
      "Requirement already satisfied: annotated-types>=0.4.0 in c:\\users\\user\\anaconda3\\envs\\study\\lib\\site-packages (from pydantic<3.0.0,>=2.7.4->langchain<1.0.0,>=0.3.23->langchain-community) (0.6.0)\n",
      "Requirement already satisfied: pydantic-core==2.20.1 in c:\\users\\user\\anaconda3\\envs\\study\\lib\\site-packages (from pydantic<3.0.0,>=2.7.4->langchain<1.0.0,>=0.3.23->langchain-community) (2.20.1)\n",
      "Requirement already satisfied: mypy-extensions>=0.3.0 in c:\\users\\user\\anaconda3\\envs\\study\\lib\\site-packages (from typing-inspect<1,>=0.4.0->dataclasses-json<0.7,>=0.5.7->langchain-community) (1.0.0)\n",
      "Downloading langchain_community-0.3.21-py3-none-any.whl (2.5 MB)\n",
      "   ---------------------------------------- 0.0/2.5 MB ? eta -:--:--\n",
      "   --------------------------------- ------ 2.1/2.5 MB 11.7 MB/s eta 0:00:01\n",
      "   ---------------------------------------- 2.5/2.5 MB 9.6 MB/s eta 0:00:00\n",
      "Downloading langchain-0.3.23-py3-none-any.whl (1.0 MB)\n",
      "   ---------------------------------------- 0.0/1.0 MB ? eta -:--:--\n",
      "   ---------------------------------------- 1.0/1.0 MB 11.9 MB/s eta 0:00:00\n",
      "Downloading langchain_core-0.3.51-py3-none-any.whl (423 kB)\n",
      "Downloading langchain_text_splitters-0.3.8-py3-none-any.whl (32 kB)\n",
      "Installing collected packages: langchain-core, langchain-text-splitters, langchain, langchain-community\n",
      "  Attempting uninstall: langchain-core\n",
      "    Found existing installation: langchain-core 0.3.49\n",
      "    Uninstalling langchain-core-0.3.49:\n",
      "      Successfully uninstalled langchain-core-0.3.49\n",
      "  Attempting uninstall: langchain-text-splitters\n",
      "    Found existing installation: langchain-text-splitters 0.3.7\n",
      "    Uninstalling langchain-text-splitters-0.3.7:\n",
      "      Successfully uninstalled langchain-text-splitters-0.3.7\n",
      "  Attempting uninstall: langchain\n",
      "    Found existing installation: langchain 0.3.22\n",
      "    Uninstalling langchain-0.3.22:\n",
      "      Successfully uninstalled langchain-0.3.22\n",
      "  Attempting uninstall: langchain-community\n",
      "    Found existing installation: langchain-community 0.3.20\n",
      "    Uninstalling langchain-community-0.3.20:\n",
      "      Successfully uninstalled langchain-community-0.3.20\n",
      "Successfully installed langchain-0.3.23 langchain-community-0.3.21 langchain-core-0.3.51 langchain-text-splitters-0.3.8\n"
     ]
    }
   ],
   "source": [
    "!pip install -U langchain-community"
   ]
  },
  {
   "cell_type": "code",
   "execution_count": 1,
   "metadata": {},
   "outputs": [],
   "source": [
    "import pandas as pd\n",
    "import numpy as np\n",
    "import json\n",
    "\n",
    "import matplotlib.pyplot as plt\n",
    "import seaborn as sns\n",
    "\n",
    "from tqdm import tqdm\n",
    "from openai import OpenAI\n",
    "from getpass import getpass\n",
    "\n",
    "from langchain.document_loaders import JSONLoader\n",
    "from langchain.text_splitter import  RecursiveCharacterTextSplitter\n",
    "from langchain_chroma import Chroma\n",
    "from langchain.schema import Document\n",
    "from langchain_openai import OpenAIEmbeddings\n",
    "\n",
    "\n",
    "from langchain.prompts import ChatPromptTemplate, FewShotChatMessagePromptTemplate\n",
    "from langchain.chains.combine_documents import create_stuff_documents_chain\n",
    "from langchain.chains import create_retrieval_chain\n",
    "\n",
    "from langchain_cohere import CohereRerank\n",
    "from langchain.retrievers import ContextualCompressionRetriever\n",
    "from langchain.chains import RetrievalQA\n",
    "from langchain_openai import ChatOpenAI\n"
   ]
  },
  {
   "cell_type": "code",
   "execution_count": null,
   "metadata": {},
   "outputs": [],
   "source": [
    "MY_API_KEY = getpass(\"OpenAI API Key:\")"
   ]
  },
  {
   "cell_type": "code",
   "execution_count": null,
   "metadata": {},
   "outputs": [],
   "source": [
    "client = OpenAI(api_key=MY_API_KEY)"
   ]
  },
  {
   "cell_type": "code",
   "execution_count": 5,
   "metadata": {},
   "outputs": [],
   "source": [
    "file_path = \"data/output.json\""
   ]
  },
  {
   "cell_type": "code",
   "execution_count": 6,
   "metadata": {},
   "outputs": [],
   "source": [
    "# JSON 데이터 로드 함수\n",
    "def load_json_data(file_path):\n",
    "    with open(file_path, 'r', encoding='utf-8') as f:\n",
    "        return json.load(f)"
   ]
  },
  {
   "cell_type": "markdown",
   "metadata": {},
   "source": [
    "### **CHUNKING**"
   ]
  },
  {
   "cell_type": "code",
   "execution_count": 7,
   "metadata": {},
   "outputs": [
    {
     "name": "stdout",
     "output_type": "stream",
     "text": [
      "로드된 JSON 데이터 개수: 134411개\n",
      "{'ID': 100291, '위치': '마포구 합정동', '제목': '복층합정카페라인인근무권리상가', '업종': '없음', '보증금': '3000만원', '월세': '250만원', '권리금': '없음', '면적(㎡)': 158.7, '층수': '3층', '설명': '층총층344금액보증금3000월세250권리금무역세권거리합정역5번출구3분평수총24평24평복층입주가능시기협의후합정카페거리에서홍대로올라가는길목에위치하여입지조건굉장히좋습메인길34층복층으로구성되어총평수는48평정도나옵일반사무실로도사용가능건물주께서내부수리완료하시어깔끔한상태로입주가능하므로복층사무실찾으시는분께서는홍대합정상수망원최다보유친절책임중개홍대대박은항상정직한정보와믿을수있는중개서비스를통하여최대한신속하게원하시는가격의물건을찾아드립자신있습홍대대박24시간연중무휴영업주차대수5독립공간7'}\n",
      "{'ID': 100444, '위치': '송파구 잠실동', '제목': '잠실새내역5분거리의위치좋은시설깔끔한점포', '업종': '한식고기집', '보증금': '8000만원', '월세': '400만원', '권리금': '없음', '면적(㎡)': 198.3, '층수': '1층', '설명': '잠실새내역5분거리의위치좋은시설깔끔한점포복층구조로내부계단과화장실있음1,2층모두닥트시설되어있으며고기집은손볼대가없이그대로영업해도됩주차대수5'}\n",
      "{'ID': 100474, '위치': '관악구 신림동', '제목': '대로변점포급매', '업종': '가구가전', '보증금': '2000만원', '월세': '120만원', '권리금': '1000만원', '면적(㎡)': 26.4, '층수': '1층', '설명': '대로변점포급매1층약8평보2000120시권1000대로변유동인구많음횡단보도앞의류통신등타업종가능'}\n",
      "{'ID': 100506, '위치': '송파구 잠실동', '제목': '신천먹자골목유동인구많은가지상권', '업종': '한식고기집', '보증금': '7000만원', '월세': '320만원', '권리금': '4000만원', '면적(㎡)': 86.0, '층수': '1층', '설명': '현업종인수인계가능업종제한없음권리금조정가능주차가능주7일영업가능상권테라스사용가능서둘러주차대수4'}\n",
      "{'ID': 100512, '위치': '마포구 서교동', '제목': '상상마당인근위치좋은상가', '업종': '한식고기집', '보증금': '5000만원', '월세': '280만원', '권리금': '없음', '면적(㎡)': 79.3, '층수': '반지하층', '설명': '층총층반지층3층금액보증금5000월세280관리비5무권리역세권거리합정역5번출구6분상상마당2분평수총24평입주가능시기협의후합정카페거리에서홍대로올라가는길목에위치하여유동인구많습현재요식업전문점으로운영되고있고도로메인에위치하여가시성굉장히좋습업종제한없이입점가능하홍대합정상수망원최다보유친절책임중개홍대대박은항상정직한정보와믿을수있는중개서비스를통하여최대한신속하게원하시는가격의물건을찾아드립자신있습홍대대박24시간연중무휴영업'}\n",
      "{'ID': 100536, '위치': '관악구 봉천동', '제목': '전속방,당구장,탁구장,스튜디오,물류창고등', '업종': '가구가전', '보증금': '5000만원', '월세': '350만원', '권리금': '없음', '면적(㎡)': 264.5, '층수': '지하2층', '설명': '상거래행위저해하는일부비매너반드시책임묻습신축건물,높은층고,지하엘리베이터연결,닥트시설,인근2000세대신축대단지아파트입주2019년6월입주체육시설방,당구장,탁구장등대형물류창고가능,스튜디오등임대면적실면적지하2층약80평,서비스면적7평임대가격5000350권리금없음입주즉시입주협의구조설비층고,별도화장실,닥트,도시가스,수도라인교통서울대입구역도보4분,관악구청앞주차주차2대무료주차대수32'}\n"
     ]
    }
   ],
   "source": [
    "# JSON 데이터 로드 및 청킹 함수 정의\n",
    "def load_and_summarize_json(file_path):\n",
    "    try:\n",
    "        data = load_json_data(file_path)\n",
    "        print(f\"로드된 JSON 데이터 개수: {len(data)}개\")\n",
    "\n",
    "        # 청킹: 주요 정보 추출\n",
    "        summary = []\n",
    "        for item in data:\n",
    "            summary.append({\n",
    "                'ID': item.get('id'),\n",
    "                '위치': f\"{item.get('자치구')} {item.get('행정동')}\",\n",
    "                '제목': item.get('title'),\n",
    "                '업종': item.get('업종'),\n",
    "                '보증금': f\"{item.get('보증금액')}만원\",\n",
    "                '월세': f\"{item.get('월세금액')}만원\",\n",
    "                '권리금': f\"{item.get('권리금액')}만원\" if item.get('권리금액', 0) > 0 else '없음',\n",
    "                '면적(㎡)': item.get('면적'),\n",
    "                '층수': item.get('층수'),\n",
    "                '설명': item.get('description')\n",
    "            })\n",
    "\n",
    "        return summary\n",
    "\n",
    "    except FileNotFoundError:\n",
    "        print(f\"파일을 찾을 수 없습니다: {file_path}\")\n",
    "    except Exception as e:\n",
    "        print(f\"오류 발생: {e}\")\n",
    "\n",
    "# 실행 및 결과 출력\n",
    "summarized_data = load_and_summarize_json(file_path)\n",
    "\n",
    "if summarized_data:\n",
    "    # 첫 5개 항목 출력\n",
    "    for item in summarized_data[5:11]:\n",
    "        print(item)\n"
   ]
  },
  {
   "cell_type": "code",
   "execution_count": 8,
   "metadata": {},
   "outputs": [
    {
     "name": "stdout",
     "output_type": "stream",
     "text": [
      "데이터 개수: 134411개\n"
     ]
    }
   ],
   "source": [
    "# JSON 데이터에서 추출된 summary 데이터를 ID별로 청킹\n",
    "formatted_texts = [\n",
    "    f\"ID: {item['ID']}\\n제목: {item['제목']}\\n위치: {item['위치']}\\n업종: {item['업종']}\\n\"\n",
    "    f\"보증금: {item['보증금']}\\n월세: {item['월세']}\\n권리금: {item['권리금']}\\n\"\n",
    "    f\"면적(㎡): {item['면적(㎡)']}\\n층수: {item['층수']}\\n설명: {item['설명']}\"\n",
    "    for item in summarized_data\n",
    "]\n",
    "\n",
    "print(f\"데이터 개수: {len(formatted_texts)}개\")"
   ]
  },
  {
   "cell_type": "code",
   "execution_count": 9,
   "metadata": {},
   "outputs": [
    {
     "name": "stdout",
     "output_type": "stream",
     "text": [
      "최소 길이: 91\n",
      "최대 길이: 1502\n",
      "평균 길이: 285.0882814650587\n",
      "\n"
     ]
    },
    {
     "data": {
      "image/png": "[encoded data removed]",
      "text/plain": [
       "<Figure size 800x400 with 1 Axes>"
      ]
     },
     "metadata": {},
     "output_type": "display_data"
    }
   ],
   "source": [
    "# 텍스트 길이가 들어간 리스트\n",
    "text_lengths = [len(text) for text in formatted_texts]\n",
    "\n",
    "print(f\"최소 길이: {min(text_lengths)}\")\n",
    "print(f\"최대 길이: {max(text_lengths)}\")\n",
    "print(f\"평균 길이: {sum(text_lengths) / len(text_lengths)}\")\n",
    "print()\n",
    "\n",
    "# 텍스트 길이 분포 확인\n",
    "plt.figure(figsize=(8, 4))\n",
    "sns.boxplot(x=text_lengths)\n",
    "plt.xlabel('Text Lengths')\n",
    "plt.show()"
   ]
  },
  {
   "cell_type": "code",
   "execution_count": 10,
   "metadata": {},
   "outputs": [
    {
     "name": "stdout",
     "output_type": "stream",
     "text": [
      "데이터 개수: 134411개\n",
      "변환된 텍스트 청크 개수: 134411개\n",
      "\n",
      "청크 구조 : \n",
      "ID: 100073\n",
      "제목: 유동인구많은커피숖상가\n",
      "위치: 구로구 구로동\n",
      "업종: 카페커피\n",
      "보증금: 2000만원\n",
      "월세: 140만원\n",
      "권리금: 3000만원\n",
      "면적(㎡): 57.96\n",
      "층수: 지하1층\n",
      "설명: 전용면적175평계약면적347평관리비대략평당4500원전기,수도요금별도계절별상이함권리금커피머신등현재상태그대로인수시3000만원커피머신제외상가인수시1000만원주차대수319\n"
     ]
    }
   ],
   "source": [
    "# \"id\"를 기준으로 청크 분류하는 스플리터 정의\n",
    "json_splitter = RecursiveCharacterTextSplitter(\n",
    "    chunk_size = 300,    # 가장 분포가 많은 300으로 청크 사이즈 설정\n",
    "    chunk_overlap = 0,   # 문맥이 필요하지 않으므로 중복값 0으로 설정\n",
    "    separators = [\"id\"]  # 각 줄을 id를 기준으로 분리\n",
    ")\n",
    "\n",
    "# 텍스트를 청크로 분할\n",
    "my_chunks = []\n",
    "for text in formatted_texts:\n",
    "    chunks = json_splitter.split_text(text)\n",
    "    my_chunks.extend(chunks)\n",
    "\n",
    "# 청크 개수 확인\n",
    "print(f\"데이터 개수: {len(formatted_texts)}개\")\n",
    "print(f\"변환된 텍스트 청크 개수: {len(my_chunks)}개\")\n",
    "print()\n",
    "print(f\"청크 구조 : \\n{formatted_texts[0]}\")"
   ]
  },
  {
   "cell_type": "markdown",
   "metadata": {},
   "source": [
    "### **EMBEDDING**"
   ]
  },
  {
   "cell_type": "code",
   "execution_count": null,
   "metadata": {},
   "outputs": [],
   "source": [
    "# 임베딩 모델 정의\n",
    "my_embedding = OpenAIEmbeddings(model = \"text-embedding-3-small\",\n",
    "                                api_key = MY_API_KEY\n",
    "                               )"
   ]
  },
  {
   "cell_type": "markdown",
   "metadata": {},
   "source": [
    "### **DB에 저장, METADATA 포함**"
   ]
  },
  {
   "cell_type": "markdown",
   "metadata": {},
   "source": [
    "#### 아래 코드 돌리면 저장하는 데에 10시간 정도 걸리니까,,, streamlit에 있는 chroma_db3로 쓰면 돼요. 그래서 주석 처리 해놓을게여"
   ]
  },
  {
   "cell_type": "code",
   "execution_count": 11,
   "metadata": {},
   "outputs": [],
   "source": [
    "# from langchain.schema import Document\n",
    "# from langchain_openai import OpenAIEmbeddings\n",
    "# from chromadb import PersistentClient\n",
    "# import os\n",
    "# import re\n",
    "# from tqdm import tqdm  \n",
    "# import traceback  \n",
    "\n",
    "# # OpenAI API 키 설정\n",
    "# os.environ[\"OPENAI_API_KEY\"] = MY_API_KEY  \n",
    "# openai_api_key = os.getenv(\"OPENAI_API_KEY\")\n",
    "\n",
    "# # 임베딩 모델 초기화\n",
    "# my_embedding = OpenAIEmbeddings(openai_api_key=openai_api_key)\n",
    "\n",
    "# # 새로운 저장 폴더 설정\n",
    "# persist_directory = \"./chroma_db\"\n",
    "\n",
    "# # ChromaDB 클라이언트 초기화\n",
    "# chroma_client = PersistentClient(path=persist_directory)\n",
    "\n",
    "# # 컬렉션 생성 (ChromaDB 0.6.3 방식)\n",
    "# collection = chroma_client.get_or_create_collection(name=\"my_collection\")\n",
    "\n",
    "# # 문서 변환 (데이터 파싱 개선)\n",
    "# documents = []\n",
    "# for chunk in tqdm(my_chunks, desc=\"Processing Chunks\"):  # tqdm 추가\n",
    "#     try:\n",
    "#         data_parts = {}\n",
    "        \n",
    "#         # \":\" 기준으로 key-value 분리, 공백 없이 붙어 있는 경우도 처리\n",
    "#         matches = re.findall(r\"([\\w\\s\\(\\)㎡]+):\\s*([^:\\n]+)\", chunk)\n",
    "        \n",
    "#         for key, value in matches:\n",
    "#             data_parts[key.strip()] = value.strip()\n",
    "\n",
    "#         # Document 객체 생성\n",
    "#         doc = Document(\n",
    "#             page_content=chunk,\n",
    "#             metadata={\n",
    "#                 \"id\": data_parts.get(\"ID\", \"\"),\n",
    "#                 \"location\": data_parts.get(\"위치\", \"\"),\n",
    "#                 \"type\": data_parts.get(\"업종\", \"\"),\n",
    "#                 \"deposit\": data_parts.get(\"보증금\", \"\"),\n",
    "#                 \"rent\": data_parts.get(\"월세\", \"\"),\n",
    "#                 \"key_money\": data_parts.get(\"권리금\", \"\"),\n",
    "#                 \"area\": data_parts.get(\"면적(㎡)\", \"\"),\n",
    "#                 \"floor\": data_parts.get(\"층수\", \"\"),\n",
    "#                 \"description\": data_parts.get(\"설명\", \"\")\n",
    "#             }\n",
    "#         )\n",
    "\n",
    "#         documents.append(doc)\n",
    "\n",
    "#         # ChromaDB에 데이터 추가 (Chroma 0.6.3 방식)\n",
    "#         collection.add(\n",
    "#             ids=[data_parts.get(\"ID\", str(len(documents)))],  # ID 없으면 인덱스 사용\n",
    "#             documents=[doc.page_content],\n",
    "#             metadatas=[doc.metadata]\n",
    "#         )\n",
    "\n",
    "#     except Exception as e:\n",
    "#         # 디버깅을 위한 코드\n",
    "#         print(f\"Error processing chunk: {chunk}\")\n",
    "#         print(f\"Error: {e}\")\n",
    "#         traceback.print_exc()  # 에러 트레이스백 출력\n",
    "\n",
    "# # 저장된 문서 개수 출력\n",
    "# print(f\"새 폴더에 저장된 문서 개수: {len(documents)}개\")\n"
   ]
  },
  {
   "cell_type": "code",
   "execution_count": null,
   "metadata": {},
   "outputs": [],
   "source": [
    "# 모든 문서의 메타데이터 출력\n",
    "for doc, metadata in zip(documents, collection.get()['metadatas']):\n",
    "    print(f\"Document: {doc.page_content[:100]}...\")  # 첫 100자만 출력\n",
    "    print(f\"Metadata: {metadata}\")\n",
    "    print(\"-\" * 50)  # 구분선\n"
   ]
  },
  {
   "cell_type": "code",
   "execution_count": null,
   "metadata": {},
   "outputs": [],
   "source": [
    "# 저장된 문서 개수 확인\n",
    "print(f\"총 저장된 문서 개수: {collection.count()}개\")\n",
    "\n",
    "# 저장된 문서 일부 가져오기\n",
    "retrieved_docs = collection.get()\n",
    "\n",
    "# 첫 번째 문서 내용 확인\n",
    "print(f\"첫 번째 문서 ID: {retrieved_docs['ids'][0]}\")\n",
    "print(f\"첫 번째 문서 내용 (page_content): {retrieved_docs['documents'][0]}\")\n",
    "print(f\"첫 번째 문서 메타데이터: {retrieved_docs['metadatas'][0]}\")\n"
   ]
  }
 ],
 "metadata": {
  "kernelspec": {
   "display_name": "study",
   "language": "python",
   "name": "python3"
  },
  "language_info": {
   "codemirror_mode": {
    "name": "ipython",
    "version": 3
   },
   "file_extension": ".py",
   "mimetype": "text/x-python",
   "name": "python",
   "nbconvert_exporter": "python",
   "pygments_lexer": "ipython3",
   "version": "3.12.7"
  }
 },
 "nbformat": 4,
 "nbformat_minor": 2
}
